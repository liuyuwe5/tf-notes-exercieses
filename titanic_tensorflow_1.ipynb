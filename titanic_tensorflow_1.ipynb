{
 "cells": [
  {
   "cell_type": "markdown",
   "id": "d85cc0a5",
   "metadata": {
    "papermill": {
     "duration": 0.009513,
     "end_time": "2022-07-14T13:23:32.572508",
     "exception": false,
     "start_time": "2022-07-14T13:23:32.562995",
     "status": "completed"
    },
    "tags": []
   },
   "source": [
    "## 0.0 Import Library"
   ]
  },
  {
   "cell_type": "code",
   "execution_count": 1,
   "id": "400c0565",
   "metadata": {
    "_cell_guid": "b1076dfc-b9ad-4769-8c92-a6c4dae69d19",
    "_uuid": "8f2839f25d086af736a60e9eeb907d3b93b6e0e5",
    "execution": {
     "iopub.execute_input": "2022-07-14T13:23:32.593130Z",
     "iopub.status.busy": "2022-07-14T13:23:32.591004Z",
     "iopub.status.idle": "2022-07-14T13:23:43.596451Z",
     "shell.execute_reply": "2022-07-14T13:23:43.595012Z"
    },
    "papermill": {
     "duration": 11.018878,
     "end_time": "2022-07-14T13:23:43.599856",
     "exception": false,
     "start_time": "2022-07-14T13:23:32.580978",
     "status": "completed"
    },
    "tags": []
   },
   "outputs": [],
   "source": [
    "import tensorflow as tf\n",
    "import pandas as pd\n",
    "import matplotlib.pyplot as plt\n",
    "from sklearn.model_selection import train_test_split"
   ]
  },
  {
   "cell_type": "markdown",
   "id": "7453c678",
   "metadata": {
    "papermill": {
     "duration": 0.008702,
     "end_time": "2022-07-14T13:23:43.617619",
     "exception": false,
     "start_time": "2022-07-14T13:23:43.608917",
     "status": "completed"
    },
    "tags": []
   },
   "source": [
    "## 1.0 Import Data"
   ]
  },
  {
   "cell_type": "markdown",
   "id": "f0cbf42e",
   "metadata": {
    "papermill": {
     "duration": 0.008653,
     "end_time": "2022-07-14T13:23:43.635234",
     "exception": false,
     "start_time": "2022-07-14T13:23:43.626581",
     "status": "completed"
    },
    "tags": []
   },
   "source": [
    "## 2.0 Data Preprocessing\n",
    "* Drop useless columns\n",
    "* Encoded data\n",
    "* Divide into X and y\n",
    "* Transfer to tensor\n",
    "* Split training and test set"
   ]
  },
  {
   "cell_type": "code",
   "execution_count": 2,
   "id": "4af8a61f",
   "metadata": {
    "execution": {
     "iopub.execute_input": "2022-07-14T13:23:43.655883Z",
     "iopub.status.busy": "2022-07-14T13:23:43.655043Z",
     "iopub.status.idle": "2022-07-14T13:23:43.696363Z",
     "shell.execute_reply": "2022-07-14T13:23:43.694932Z"
    },
    "papermill": {
     "duration": 0.05518,
     "end_time": "2022-07-14T13:23:43.699292",
     "exception": false,
     "start_time": "2022-07-14T13:23:43.644112",
     "status": "completed"
    },
    "tags": []
   },
   "outputs": [],
   "source": [
    "# Import Data\n",
    "data = pd.read_csv(\"/kaggle/input/titanic/train.csv\")\n",
    "# Data Preprocessing\n",
    "# Drop \"Name\", \"PassengerId\",\"Cabin\",\"Ticket\" which are basically random and has nothing to do with the survival rate.\n",
    "data = data.drop([\"Name\",\"PassengerId\",\"Cabin\",\"Ticket\"], axis=1)\n",
    "# Encode the Embarked into numbers where 0 = C(Cherbourg), 1 = Q(Queenstown), 2 = S(Southampton)\n",
    "data[\"Embarked\"] = pd.Categorical(data[\"Embarked\"])\n",
    "data[\"Embarked\"] = data[\"Embarked\"].cat.codes\n",
    "# Encode the Sex into numbers where 0 = female, 1 = male\n",
    "data[\"Sex\"] = pd.Categorical(data[\"Sex\"])\n",
    "data[\"Sex\"] = data[\"Sex\"].cat.codes"
   ]
  },
  {
   "cell_type": "code",
   "execution_count": 3,
   "id": "02e2aea0",
   "metadata": {
    "execution": {
     "iopub.execute_input": "2022-07-14T13:23:43.720564Z",
     "iopub.status.busy": "2022-07-14T13:23:43.719868Z",
     "iopub.status.idle": "2022-07-14T13:23:43.749458Z",
     "shell.execute_reply": "2022-07-14T13:23:43.748101Z"
    },
    "papermill": {
     "duration": 0.044195,
     "end_time": "2022-07-14T13:23:43.753085",
     "exception": false,
     "start_time": "2022-07-14T13:23:43.708890",
     "status": "completed"
    },
    "tags": []
   },
   "outputs": [
    {
     "data": {
      "text/html": [
       "<div>\n",
       "<style scoped>\n",
       "    .dataframe tbody tr th:only-of-type {\n",
       "        vertical-align: middle;\n",
       "    }\n",
       "\n",
       "    .dataframe tbody tr th {\n",
       "        vertical-align: top;\n",
       "    }\n",
       "\n",
       "    .dataframe thead th {\n",
       "        text-align: right;\n",
       "    }\n",
       "</style>\n",
       "<table border=\"1\" class=\"dataframe\">\n",
       "  <thead>\n",
       "    <tr style=\"text-align: right;\">\n",
       "      <th></th>\n",
       "      <th>Survived</th>\n",
       "      <th>Pclass</th>\n",
       "      <th>Sex</th>\n",
       "      <th>Age</th>\n",
       "      <th>SibSp</th>\n",
       "      <th>Parch</th>\n",
       "      <th>Fare</th>\n",
       "      <th>Embarked</th>\n",
       "    </tr>\n",
       "  </thead>\n",
       "  <tbody>\n",
       "    <tr>\n",
       "      <th>0</th>\n",
       "      <td>0</td>\n",
       "      <td>3</td>\n",
       "      <td>1</td>\n",
       "      <td>22.0</td>\n",
       "      <td>1</td>\n",
       "      <td>0</td>\n",
       "      <td>7.2500</td>\n",
       "      <td>2</td>\n",
       "    </tr>\n",
       "    <tr>\n",
       "      <th>1</th>\n",
       "      <td>1</td>\n",
       "      <td>1</td>\n",
       "      <td>0</td>\n",
       "      <td>38.0</td>\n",
       "      <td>1</td>\n",
       "      <td>0</td>\n",
       "      <td>71.2833</td>\n",
       "      <td>0</td>\n",
       "    </tr>\n",
       "    <tr>\n",
       "      <th>2</th>\n",
       "      <td>1</td>\n",
       "      <td>3</td>\n",
       "      <td>0</td>\n",
       "      <td>26.0</td>\n",
       "      <td>0</td>\n",
       "      <td>0</td>\n",
       "      <td>7.9250</td>\n",
       "      <td>2</td>\n",
       "    </tr>\n",
       "    <tr>\n",
       "      <th>3</th>\n",
       "      <td>1</td>\n",
       "      <td>1</td>\n",
       "      <td>0</td>\n",
       "      <td>35.0</td>\n",
       "      <td>1</td>\n",
       "      <td>0</td>\n",
       "      <td>53.1000</td>\n",
       "      <td>2</td>\n",
       "    </tr>\n",
       "    <tr>\n",
       "      <th>4</th>\n",
       "      <td>0</td>\n",
       "      <td>3</td>\n",
       "      <td>1</td>\n",
       "      <td>35.0</td>\n",
       "      <td>0</td>\n",
       "      <td>0</td>\n",
       "      <td>8.0500</td>\n",
       "      <td>2</td>\n",
       "    </tr>\n",
       "    <tr>\n",
       "      <th>...</th>\n",
       "      <td>...</td>\n",
       "      <td>...</td>\n",
       "      <td>...</td>\n",
       "      <td>...</td>\n",
       "      <td>...</td>\n",
       "      <td>...</td>\n",
       "      <td>...</td>\n",
       "      <td>...</td>\n",
       "    </tr>\n",
       "    <tr>\n",
       "      <th>886</th>\n",
       "      <td>0</td>\n",
       "      <td>2</td>\n",
       "      <td>1</td>\n",
       "      <td>27.0</td>\n",
       "      <td>0</td>\n",
       "      <td>0</td>\n",
       "      <td>13.0000</td>\n",
       "      <td>2</td>\n",
       "    </tr>\n",
       "    <tr>\n",
       "      <th>887</th>\n",
       "      <td>1</td>\n",
       "      <td>1</td>\n",
       "      <td>0</td>\n",
       "      <td>19.0</td>\n",
       "      <td>0</td>\n",
       "      <td>0</td>\n",
       "      <td>30.0000</td>\n",
       "      <td>2</td>\n",
       "    </tr>\n",
       "    <tr>\n",
       "      <th>888</th>\n",
       "      <td>0</td>\n",
       "      <td>3</td>\n",
       "      <td>0</td>\n",
       "      <td>NaN</td>\n",
       "      <td>1</td>\n",
       "      <td>2</td>\n",
       "      <td>23.4500</td>\n",
       "      <td>2</td>\n",
       "    </tr>\n",
       "    <tr>\n",
       "      <th>889</th>\n",
       "      <td>1</td>\n",
       "      <td>1</td>\n",
       "      <td>1</td>\n",
       "      <td>26.0</td>\n",
       "      <td>0</td>\n",
       "      <td>0</td>\n",
       "      <td>30.0000</td>\n",
       "      <td>0</td>\n",
       "    </tr>\n",
       "    <tr>\n",
       "      <th>890</th>\n",
       "      <td>0</td>\n",
       "      <td>3</td>\n",
       "      <td>1</td>\n",
       "      <td>32.0</td>\n",
       "      <td>0</td>\n",
       "      <td>0</td>\n",
       "      <td>7.7500</td>\n",
       "      <td>1</td>\n",
       "    </tr>\n",
       "  </tbody>\n",
       "</table>\n",
       "<p>891 rows × 8 columns</p>\n",
       "</div>"
      ],
      "text/plain": [
       "     Survived  Pclass  Sex   Age  SibSp  Parch     Fare  Embarked\n",
       "0           0       3    1  22.0      1      0   7.2500         2\n",
       "1           1       1    0  38.0      1      0  71.2833         0\n",
       "2           1       3    0  26.0      0      0   7.9250         2\n",
       "3           1       1    0  35.0      1      0  53.1000         2\n",
       "4           0       3    1  35.0      0      0   8.0500         2\n",
       "..        ...     ...  ...   ...    ...    ...      ...       ...\n",
       "886         0       2    1  27.0      0      0  13.0000         2\n",
       "887         1       1    0  19.0      0      0  30.0000         2\n",
       "888         0       3    0   NaN      1      2  23.4500         2\n",
       "889         1       1    1  26.0      0      0  30.0000         0\n",
       "890         0       3    1  32.0      0      0   7.7500         1\n",
       "\n",
       "[891 rows x 8 columns]"
      ]
     },
     "execution_count": 3,
     "metadata": {},
     "output_type": "execute_result"
    }
   ],
   "source": [
    "data"
   ]
  },
  {
   "cell_type": "code",
   "execution_count": 4,
   "id": "6a4cd797",
   "metadata": {
    "execution": {
     "iopub.execute_input": "2022-07-14T13:23:43.775320Z",
     "iopub.status.busy": "2022-07-14T13:23:43.774856Z",
     "iopub.status.idle": "2022-07-14T13:23:43.783393Z",
     "shell.execute_reply": "2022-07-14T13:23:43.781834Z"
    },
    "papermill": {
     "duration": 0.0231,
     "end_time": "2022-07-14T13:23:43.786304",
     "exception": false,
     "start_time": "2022-07-14T13:23:43.763204",
     "status": "completed"
    },
    "tags": []
   },
   "outputs": [],
   "source": [
    "# Divide into X and y\n",
    "X = data.drop([\"Survived\"], axis=1)\n",
    "y = data[\"Survived\"]"
   ]
  },
  {
   "cell_type": "code",
   "execution_count": 5,
   "id": "c2725929",
   "metadata": {
    "execution": {
     "iopub.execute_input": "2022-07-14T13:23:43.809014Z",
     "iopub.status.busy": "2022-07-14T13:23:43.808508Z",
     "iopub.status.idle": "2022-07-14T13:23:43.855150Z",
     "shell.execute_reply": "2022-07-14T13:23:43.854059Z"
    },
    "papermill": {
     "duration": 0.06199,
     "end_time": "2022-07-14T13:23:43.857917",
     "exception": false,
     "start_time": "2022-07-14T13:23:43.795927",
     "status": "completed"
    },
    "tags": []
   },
   "outputs": [
    {
     "name": "stderr",
     "output_type": "stream",
     "text": [
      "2022-07-14 13:23:43.828168: I tensorflow/core/common_runtime/process_util.cc:146] Creating new thread pool with default inter op setting: 2. Tune using inter_op_parallelism_threads for best performance.\n"
     ]
    }
   ],
   "source": [
    "# NumPy to Tensor\n",
    "tensor_X = tf.convert_to_tensor(X, dtype=tf.float32)\n",
    "tensor_y = tf.convert_to_tensor(y, dtype=tf.float32)"
   ]
  },
  {
   "cell_type": "code",
   "execution_count": 6,
   "id": "4421e80b",
   "metadata": {
    "execution": {
     "iopub.execute_input": "2022-07-14T13:23:43.881842Z",
     "iopub.status.busy": "2022-07-14T13:23:43.880895Z",
     "iopub.status.idle": "2022-07-14T13:23:43.889313Z",
     "shell.execute_reply": "2022-07-14T13:23:43.887738Z"
    },
    "papermill": {
     "duration": 0.024177,
     "end_time": "2022-07-14T13:23:43.892525",
     "exception": false,
     "start_time": "2022-07-14T13:23:43.868348",
     "status": "completed"
    },
    "tags": []
   },
   "outputs": [
    {
     "data": {
      "text/plain": [
       "891"
      ]
     },
     "execution_count": 6,
     "metadata": {},
     "output_type": "execute_result"
    }
   ],
   "source": [
    "len(tensor_y)"
   ]
  },
  {
   "cell_type": "code",
   "execution_count": 7,
   "id": "d2c1a29d",
   "metadata": {
    "execution": {
     "iopub.execute_input": "2022-07-14T13:23:43.913778Z",
     "iopub.status.busy": "2022-07-14T13:23:43.913302Z",
     "iopub.status.idle": "2022-07-14T13:23:43.921154Z",
     "shell.execute_reply": "2022-07-14T13:23:43.919919Z"
    },
    "papermill": {
     "duration": 0.021453,
     "end_time": "2022-07-14T13:23:43.923692",
     "exception": false,
     "start_time": "2022-07-14T13:23:43.902239",
     "status": "completed"
    },
    "tags": []
   },
   "outputs": [
    {
     "data": {
      "text/plain": [
       "712.8000000000001"
      ]
     },
     "execution_count": 7,
     "metadata": {},
     "output_type": "execute_result"
    }
   ],
   "source": [
    "891*0.8"
   ]
  },
  {
   "cell_type": "code",
   "execution_count": 8,
   "id": "746fa005",
   "metadata": {
    "execution": {
     "iopub.execute_input": "2022-07-14T13:23:43.946438Z",
     "iopub.status.busy": "2022-07-14T13:23:43.946012Z",
     "iopub.status.idle": "2022-07-14T13:23:43.973306Z",
     "shell.execute_reply": "2022-07-14T13:23:43.972260Z"
    },
    "papermill": {
     "duration": 0.042482,
     "end_time": "2022-07-14T13:23:43.976225",
     "exception": false,
     "start_time": "2022-07-14T13:23:43.933743",
     "status": "completed"
    },
    "tags": []
   },
   "outputs": [],
   "source": [
    "# Split into test and training set with size_train = 0.8\n",
    "X_train, X_test, y_train, y_test = tensor_X[:712], tensor_X[713:], tensor_y[:712], tensor_y[713:]"
   ]
  },
  {
   "cell_type": "code",
   "execution_count": 9,
   "id": "76310444",
   "metadata": {
    "execution": {
     "iopub.execute_input": "2022-07-14T13:23:43.998690Z",
     "iopub.status.busy": "2022-07-14T13:23:43.997913Z",
     "iopub.status.idle": "2022-07-14T13:23:44.007334Z",
     "shell.execute_reply": "2022-07-14T13:23:44.006065Z"
    },
    "papermill": {
     "duration": 0.024034,
     "end_time": "2022-07-14T13:23:44.009801",
     "exception": false,
     "start_time": "2022-07-14T13:23:43.985767",
     "status": "completed"
    },
    "tags": []
   },
   "outputs": [
    {
     "data": {
      "text/plain": [
       "<tf.Tensor: shape=(712, 7), dtype=float32, numpy=\n",
       "array([[ 3.    ,  1.    , 22.    , ...,  0.    ,  7.25  ,  2.    ],\n",
       "       [ 1.    ,  0.    , 38.    , ...,  0.    , 71.2833,  0.    ],\n",
       "       [ 3.    ,  0.    , 26.    , ...,  0.    ,  7.925 ,  2.    ],\n",
       "       ...,\n",
       "       [ 3.    ,  1.    ,     nan, ...,  1.    , 15.2458,  0.    ],\n",
       "       [ 1.    ,  0.    , 24.    , ...,  0.    , 49.5042,  0.    ],\n",
       "       [ 1.    ,  1.    ,     nan, ...,  0.    , 26.55  ,  2.    ]],\n",
       "      dtype=float32)>"
      ]
     },
     "execution_count": 9,
     "metadata": {},
     "output_type": "execute_result"
    }
   ],
   "source": [
    "X_train"
   ]
  },
  {
   "cell_type": "markdown",
   "id": "83e48983",
   "metadata": {
    "papermill": {
     "duration": 0.009389,
     "end_time": "2022-07-14T13:23:44.028942",
     "exception": false,
     "start_time": "2022-07-14T13:23:44.019553",
     "status": "completed"
    },
    "tags": []
   },
   "source": [
    "Firstly check different scatter plot to see if there are any relations between survival and Sex, Age, Pclass, SibSp, Parch, Fare, Embarked.\n",
    "Survival: 0(red) = No, 1(blue) = Yes"
   ]
  },
  {
   "cell_type": "code",
   "execution_count": 10,
   "id": "a165f1c5",
   "metadata": {
    "execution": {
     "iopub.execute_input": "2022-07-14T13:23:44.052827Z",
     "iopub.status.busy": "2022-07-14T13:23:44.052060Z",
     "iopub.status.idle": "2022-07-14T13:23:44.303928Z",
     "shell.execute_reply": "2022-07-14T13:23:44.302721Z"
    },
    "papermill": {
     "duration": 0.267382,
     "end_time": "2022-07-14T13:23:44.306895",
     "exception": false,
     "start_time": "2022-07-14T13:23:44.039513",
     "status": "completed"
    },
    "tags": []
   },
   "outputs": [
    {
     "data": {
      "text/plain": [
       "<matplotlib.collections.PathCollection at 0x7f7e48611dd0>"
      ]
     },
     "execution_count": 10,
     "metadata": {},
     "output_type": "execute_result"
    },
    {
     "data": {
      "image/png": "[encoded data removed]",
      "text/plain": [
       "<Figure size 432x288 with 1 Axes>"
      ]
     },
     "metadata": {
      "needs_background": "light"
     },
     "output_type": "display_data"
    }
   ],
   "source": [
    "plt.scatter(X[\"Age\"],X[\"Sex\"], c=y, cmap=plt.cm.RdYlBu)"
   ]
  },
  {
   "cell_type": "code",
   "execution_count": 11,
   "id": "40476992",
   "metadata": {
    "execution": {
     "iopub.execute_input": "2022-07-14T13:23:44.338201Z",
     "iopub.status.busy": "2022-07-14T13:23:44.336997Z",
     "iopub.status.idle": "2022-07-14T13:23:44.555419Z",
     "shell.execute_reply": "2022-07-14T13:23:44.554078Z"
    },
    "papermill": {
     "duration": 0.236067,
     "end_time": "2022-07-14T13:23:44.558883",
     "exception": false,
     "start_time": "2022-07-14T13:23:44.322816",
     "status": "completed"
    },
    "tags": []
   },
   "outputs": [
    {
     "data": {
      "text/plain": [
       "<matplotlib.collections.PathCollection at 0x7f7e48611e50>"
      ]
     },
     "execution_count": 11,
     "metadata": {},
     "output_type": "execute_result"
    },
    {
     "data": {
      "image/png": "[encoded data removed]",
      "text/plain": [
       "<Figure size 432x288 with 1 Axes>"
      ]
     },
     "metadata": {
      "needs_background": "light"
     },
     "output_type": "display_data"
    }
   ],
   "source": [
    "plt.scatter(X[\"Age\"],X[\"Pclass\"], c=y, cmap=plt.cm.RdYlBu)"
   ]
  },
  {
   "cell_type": "code",
   "execution_count": 12,
   "id": "63ad672d",
   "metadata": {
    "execution": {
     "iopub.execute_input": "2022-07-14T13:23:44.581956Z",
     "iopub.status.busy": "2022-07-14T13:23:44.581326Z",
     "iopub.status.idle": "2022-07-14T13:23:44.788712Z",
     "shell.execute_reply": "2022-07-14T13:23:44.787110Z"
    },
    "papermill": {
     "duration": 0.222626,
     "end_time": "2022-07-14T13:23:44.791960",
     "exception": false,
     "start_time": "2022-07-14T13:23:44.569334",
     "status": "completed"
    },
    "tags": []
   },
   "outputs": [
    {
     "data": {
      "text/plain": [
       "<matplotlib.collections.PathCollection at 0x7f7e483ea590>"
      ]
     },
     "execution_count": 12,
     "metadata": {},
     "output_type": "execute_result"
    },
    {
     "data": {
      "image/png": "[encoded data removed]",
      "text/plain": [
       "<Figure size 432x288 with 1 Axes>"
      ]
     },
     "metadata": {
      "needs_background": "light"
     },
     "output_type": "display_data"
    }
   ],
   "source": [
    "plt.scatter(X[\"Age\"],X[\"SibSp\"], c=y, cmap=plt.cm.RdYlBu)"
   ]
  },
  {
   "cell_type": "code",
   "execution_count": 13,
   "id": "467c7f73",
   "metadata": {
    "execution": {
     "iopub.execute_input": "2022-07-14T13:23:44.817237Z",
     "iopub.status.busy": "2022-07-14T13:23:44.816869Z",
     "iopub.status.idle": "2022-07-14T13:23:45.029179Z",
     "shell.execute_reply": "2022-07-14T13:23:45.028016Z"
    },
    "papermill": {
     "duration": 0.228089,
     "end_time": "2022-07-14T13:23:45.031888",
     "exception": false,
     "start_time": "2022-07-14T13:23:44.803799",
     "status": "completed"
    },
    "tags": []
   },
   "outputs": [
    {
     "data": {
      "text/plain": [
       "<matplotlib.collections.PathCollection at 0x7f7e483e6a50>"
      ]
     },
     "execution_count": 13,
     "metadata": {},
     "output_type": "execute_result"
    },
    {
     "data": {
      "image/png": "[encoded data removed]",
      "text/plain": [
       "<Figure size 432x288 with 1 Axes>"
      ]
     },
     "metadata": {
      "needs_background": "light"
     },
     "output_type": "display_data"
    }
   ],
   "source": [
    "plt.scatter(X[\"Age\"],X[\"Parch\"], c=y, cmap=plt.cm.RdYlBu)"
   ]
  },
  {
   "cell_type": "code",
   "execution_count": 14,
   "id": "468a509e",
   "metadata": {
    "execution": {
     "iopub.execute_input": "2022-07-14T13:23:45.057547Z",
     "iopub.status.busy": "2022-07-14T13:23:45.057166Z",
     "iopub.status.idle": "2022-07-14T13:23:45.262478Z",
     "shell.execute_reply": "2022-07-14T13:23:45.261085Z"
    },
    "papermill": {
     "duration": 0.221381,
     "end_time": "2022-07-14T13:23:45.265313",
     "exception": false,
     "start_time": "2022-07-14T13:23:45.043932",
     "status": "completed"
    },
    "tags": []
   },
   "outputs": [
    {
     "data": {
      "text/plain": [
       "<matplotlib.collections.PathCollection at 0x7f7e482fcbd0>"
      ]
     },
     "execution_count": 14,
     "metadata": {},
     "output_type": "execute_result"
    },
    {
     "data": {
      "image/png": "[encoded data removed]",
      "text/plain": [
       "<Figure size 432x288 with 1 Axes>"
      ]
     },
     "metadata": {
      "needs_background": "light"
     },
     "output_type": "display_data"
    }
   ],
   "source": [
    "plt.scatter(X[\"Age\"],X[\"Fare\"], c=y, cmap=plt.cm.RdYlBu)"
   ]
  },
  {
   "cell_type": "code",
   "execution_count": 15,
   "id": "754d4904",
   "metadata": {
    "execution": {
     "iopub.execute_input": "2022-07-14T13:23:45.293056Z",
     "iopub.status.busy": "2022-07-14T13:23:45.292558Z",
     "iopub.status.idle": "2022-07-14T13:23:45.505069Z",
     "shell.execute_reply": "2022-07-14T13:23:45.504280Z"
    },
    "papermill": {
     "duration": 0.229404,
     "end_time": "2022-07-14T13:23:45.507487",
     "exception": false,
     "start_time": "2022-07-14T13:23:45.278083",
     "status": "completed"
    },
    "tags": []
   },
   "outputs": [
    {
     "data": {
      "text/plain": [
       "<matplotlib.collections.PathCollection at 0x7f7e4830cc50>"
      ]
     },
     "execution_count": 15,
     "metadata": {},
     "output_type": "execute_result"
    },
    {
     "data": {
      "image/png": "[encoded data removed]",
      "text/plain": [
       "<Figure size 432x288 with 1 Axes>"
      ]
     },
     "metadata": {
      "needs_background": "light"
     },
     "output_type": "display_data"
    }
   ],
   "source": [
    "plt.scatter(X[\"Age\"],X[\"Embarked\"], c=y, cmap=plt.cm.RdYlBu)"
   ]
  },
  {
   "cell_type": "markdown",
   "id": "906343fe",
   "metadata": {
    "papermill": {
     "duration": 0.013143,
     "end_time": "2022-07-14T13:23:45.534319",
     "exception": false,
     "start_time": "2022-07-14T13:23:45.521176",
     "status": "completed"
    },
    "tags": []
   },
   "source": [
    "Looks like most of columns are related to Survival rate.\n",
    "Then, let's build the model!\n"
   ]
  },
  {
   "cell_type": "markdown",
   "id": "2dae039b",
   "metadata": {
    "papermill": {
     "duration": 0.013138,
     "end_time": "2022-07-14T13:23:45.561039",
     "exception": false,
     "start_time": "2022-07-14T13:23:45.547901",
     "status": "completed"
    },
    "tags": []
   },
   "source": [
    "## 3.0 Model Preparation"
   ]
  },
  {
   "cell_type": "code",
   "execution_count": 16,
   "id": "5b0e9503",
   "metadata": {
    "execution": {
     "iopub.execute_input": "2022-07-14T13:23:45.591865Z",
     "iopub.status.busy": "2022-07-14T13:23:45.589588Z",
     "iopub.status.idle": "2022-07-14T13:23:45.596565Z",
     "shell.execute_reply": "2022-07-14T13:23:45.595793Z"
    },
    "papermill": {
     "duration": 0.02473,
     "end_time": "2022-07-14T13:23:45.599241",
     "exception": false,
     "start_time": "2022-07-14T13:23:45.574511",
     "status": "completed"
    },
    "tags": []
   },
   "outputs": [],
   "source": [
    "tf.random.set_seed(42)"
   ]
  },
  {
   "cell_type": "code",
   "execution_count": 17,
   "id": "62914926",
   "metadata": {
    "execution": {
     "iopub.execute_input": "2022-07-14T13:23:45.629204Z",
     "iopub.status.busy": "2022-07-14T13:23:45.628352Z",
     "iopub.status.idle": "2022-07-14T13:23:46.871220Z",
     "shell.execute_reply": "2022-07-14T13:23:46.870326Z"
    },
    "papermill": {
     "duration": 1.260883,
     "end_time": "2022-07-14T13:23:46.874049",
     "exception": false,
     "start_time": "2022-07-14T13:23:45.613166",
     "status": "completed"
    },
    "tags": []
   },
   "outputs": [],
   "source": [
    "model_1 = tf.keras.Sequential([\n",
    "    tf.keras.layers.Dense(10,activation=\"relu\"),\n",
    "    tf.keras.layers.Dense(25,activation=\"relu\"),\n",
    "    tf.keras.layers.Dense(25,activation=\"relu\"),\n",
    "    tf.keras.layers.Dense(25,activation=\"relu\"),\n",
    "    tf.keras.layers.Dense(25,activation=\"relu\"),\n",
    "    tf.keras.layers.Dense(10,activation=\"relu\"),\n",
    "    tf.keras.layers.Dense(1,activation=\"sigmoid\")\n",
    "])"
   ]
  },
  {
   "cell_type": "code",
   "execution_count": 18,
   "id": "cf8ad92f",
   "metadata": {
    "execution": {
     "iopub.execute_input": "2022-07-14T13:23:46.903165Z",
     "iopub.status.busy": "2022-07-14T13:23:46.902335Z",
     "iopub.status.idle": "2022-07-14T13:23:46.923755Z",
     "shell.execute_reply": "2022-07-14T13:23:46.922871Z"
    },
    "papermill": {
     "duration": 0.039095,
     "end_time": "2022-07-14T13:23:46.926512",
     "exception": false,
     "start_time": "2022-07-14T13:23:46.887417",
     "status": "completed"
    },
    "tags": []
   },
   "outputs": [],
   "source": [
    "model_1.compile(loss=tf.keras.losses.binary_crossentropy,\n",
    "               optimizer=tf.keras.optimizers.Adam(learning_rate=0.0001),\n",
    "               metrics=['accuracy'])"
   ]
  },
  {
   "cell_type": "code",
   "execution_count": 19,
   "id": "9bfb6c67",
   "metadata": {
    "execution": {
     "iopub.execute_input": "2022-07-14T13:23:46.955701Z",
     "iopub.status.busy": "2022-07-14T13:23:46.955073Z",
     "iopub.status.idle": "2022-07-14T13:23:49.251071Z",
     "shell.execute_reply": "2022-07-14T13:23:49.249619Z"
    },
    "papermill": {
     "duration": 2.31378,
     "end_time": "2022-07-14T13:23:49.253714",
     "exception": false,
     "start_time": "2022-07-14T13:23:46.939934",
     "status": "completed"
    },
    "tags": []
   },
   "outputs": [
    {
     "name": "stderr",
     "output_type": "stream",
     "text": [
      "2022-07-14 13:23:47.047220: I tensorflow/compiler/mlir/mlir_graph_optimization_pass.cc:185] None of the MLIR Optimization Passes are enabled (registered 2)\n"
     ]
    },
    {
     "name": "stdout",
     "output_type": "stream",
     "text": [
      "Epoch 1/10\n",
      "23/23 [==============================] - 1s 3ms/step - loss: 0.7054 - accuracy: 0.5478\n",
      "Epoch 2/10\n",
      "23/23 [==============================] - 0s 3ms/step - loss: 0.6929 - accuracy: 0.6096\n",
      "Epoch 3/10\n",
      "23/23 [==============================] - 0s 3ms/step - loss: 0.6926 - accuracy: 0.6096\n",
      "Epoch 4/10\n",
      "23/23 [==============================] - 0s 3ms/step - loss: 0.6919 - accuracy: 0.6096\n",
      "Epoch 5/10\n",
      "23/23 [==============================] - 0s 3ms/step - loss: 0.6904 - accuracy: 0.6096\n",
      "Epoch 6/10\n",
      "23/23 [==============================] - 0s 3ms/step - loss: 0.6892 - accuracy: 0.6096\n",
      "Epoch 7/10\n",
      "23/23 [==============================] - 0s 3ms/step - loss: 0.6880 - accuracy: 0.6096\n",
      "Epoch 8/10\n",
      "23/23 [==============================] - 0s 3ms/step - loss: 0.6869 - accuracy: 0.6096\n",
      "Epoch 9/10\n",
      "23/23 [==============================] - 0s 3ms/step - loss: 0.6858 - accuracy: 0.6096\n",
      "Epoch 10/10\n",
      "23/23 [==============================] - 0s 6ms/step - loss: 0.6847 - accuracy: 0.6096\n"
     ]
    },
    {
     "data": {
      "text/plain": [
       "<keras.callbacks.History at 0x7f7e38b3af50>"
      ]
     },
     "execution_count": 19,
     "metadata": {},
     "output_type": "execute_result"
    }
   ],
   "source": [
    "model_1.fit(X_train, y_train, epochs=10)"
   ]
  },
  {
   "cell_type": "code",
   "execution_count": 20,
   "id": "f57d7fc7",
   "metadata": {
    "execution": {
     "iopub.execute_input": "2022-07-14T13:23:49.288095Z",
     "iopub.status.busy": "2022-07-14T13:23:49.287614Z",
     "iopub.status.idle": "2022-07-14T13:23:56.322042Z",
     "shell.execute_reply": "2022-07-14T13:23:56.320636Z"
    },
    "papermill": {
     "duration": 7.055398,
     "end_time": "2022-07-14T13:23:56.324833",
     "exception": false,
     "start_time": "2022-07-14T13:23:49.269435",
     "status": "completed"
    },
    "tags": []
   },
   "outputs": [
    {
     "data": {
      "image/png": "[encoded data removed]",
      "text/plain": [
       "<Figure size 432x288 with 1 Axes>"
      ]
     },
     "metadata": {
      "needs_background": "light"
     },
     "output_type": "display_data"
    },
    {
     "data": {
      "image/png": "[encoded data removed]",
      "text/plain": [
       "<Figure size 432x288 with 1 Axes>"
      ]
     },
     "metadata": {
      "needs_background": "light"
     },
     "output_type": "display_data"
    }
   ],
   "source": [
    "fit_1 = model_1.fit(X_train, y_train, epochs=100,verbose = 0)\n",
    "# Plot non-normalized data loss curves\n",
    "pd.DataFrame(fit_1.history).plot(title=\"Non-normalized Data\")\n",
    "# Plot normalized data loss curves\n",
    "pd.DataFrame(fit_1.history).plot(title=\"Normalized data\");"
   ]
  },
  {
   "cell_type": "markdown",
   "id": "bd976747",
   "metadata": {
    "papermill": {
     "duration": 0.015873,
     "end_time": "2022-07-14T13:23:56.357206",
     "exception": false,
     "start_time": "2022-07-14T13:23:56.341333",
     "status": "completed"
    },
    "tags": []
   },
   "source": [
    "Theaccuracy looks not good, let's see the prediction accuracy."
   ]
  },
  {
   "cell_type": "code",
   "execution_count": 21,
   "id": "19a614df",
   "metadata": {
    "execution": {
     "iopub.execute_input": "2022-07-14T13:23:56.391849Z",
     "iopub.status.busy": "2022-07-14T13:23:56.391428Z",
     "iopub.status.idle": "2022-07-14T13:23:56.595195Z",
     "shell.execute_reply": "2022-07-14T13:23:56.593705Z"
    },
    "papermill": {
     "duration": 0.224756,
     "end_time": "2022-07-14T13:23:56.598403",
     "exception": false,
     "start_time": "2022-07-14T13:23:56.373647",
     "status": "completed"
    },
    "tags": []
   },
   "outputs": [],
   "source": [
    "y_pred_test = model_1.predict(X_test)"
   ]
  },
  {
   "cell_type": "code",
   "execution_count": 22,
   "id": "baa5410a",
   "metadata": {
    "execution": {
     "iopub.execute_input": "2022-07-14T13:23:56.635753Z",
     "iopub.status.busy": "2022-07-14T13:23:56.635056Z",
     "iopub.status.idle": "2022-07-14T13:23:56.645952Z",
     "shell.execute_reply": "2022-07-14T13:23:56.644759Z"
    },
    "papermill": {
     "duration": 0.032456,
     "end_time": "2022-07-14T13:23:56.648511",
     "exception": false,
     "start_time": "2022-07-14T13:23:56.616055",
     "status": "completed"
    },
    "tags": []
   },
   "outputs": [
    {
     "data": {
      "text/plain": [
       "array([[115,   0],\n",
       "       [ 63,   0]])"
      ]
     },
     "execution_count": 22,
     "metadata": {},
     "output_type": "execute_result"
    }
   ],
   "source": [
    "y_pred_test = tf.round(y_pred_test)\n",
    "from sklearn.metrics import confusion_matrix\n",
    "confusion_matrix(y_true=y_test, \n",
    "                 y_pred=y_pred_test)\n",
    "\n"
   ]
  },
  {
   "cell_type": "code",
   "execution_count": 23,
   "id": "4ab75040",
   "metadata": {
    "execution": {
     "iopub.execute_input": "2022-07-14T13:23:56.685417Z",
     "iopub.status.busy": "2022-07-14T13:23:56.684933Z",
     "iopub.status.idle": "2022-07-14T13:23:56.709083Z",
     "shell.execute_reply": "2022-07-14T13:23:56.707757Z"
    },
    "papermill": {
     "duration": 0.045593,
     "end_time": "2022-07-14T13:23:56.711808",
     "exception": false,
     "start_time": "2022-07-14T13:23:56.666215",
     "status": "completed"
    },
    "tags": []
   },
   "outputs": [],
   "source": [
    "# Import Data\n",
    "data = pd.read_csv(\"../input/titanic/test.csv\")\n",
    "# Data Preprocessing\n",
    "# Drop \"Name\", \"PassengerId\",\"Cabin\",\"Ticket\" which are basically random and has nothing to do with the survival rate.\n",
    "data_predict = data.drop([\"Name\",\"PassengerId\",\"Cabin\",\"Ticket\"], axis=1)\n",
    "# Encode the Embarked into numbers where 0 = C(Cherbourg), 1 = Q(Queenstown), 2 = S(Southampton)\n",
    "data_predict[\"Embarked\"] = pd.Categorical(data_predict[\"Embarked\"])\n",
    "data_predict[\"Embarked\"] = data_predict[\"Embarked\"].cat.codes\n",
    "# Encode the Sex into numbers where 0 = female, 1 = male\n",
    "data_predict[\"Sex\"] = pd.Categorical(data_predict[\"Sex\"])\n",
    "data_predict[\"Sex\"] = data_predict[\"Sex\"].cat.codes\n",
    "# NumPy to Tensor\n",
    "tensor_predict = tf.convert_to_tensor(data_predict, dtype=tf.float32)"
   ]
  },
  {
   "cell_type": "code",
   "execution_count": 24,
   "id": "b0d27986",
   "metadata": {
    "execution": {
     "iopub.execute_input": "2022-07-14T13:23:56.746884Z",
     "iopub.status.busy": "2022-07-14T13:23:56.746377Z",
     "iopub.status.idle": "2022-07-14T13:23:56.839379Z",
     "shell.execute_reply": "2022-07-14T13:23:56.838020Z"
    },
    "papermill": {
     "duration": 0.114188,
     "end_time": "2022-07-14T13:23:56.842187",
     "exception": false,
     "start_time": "2022-07-14T13:23:56.727999",
     "status": "completed"
    },
    "tags": []
   },
   "outputs": [],
   "source": [
    "result = tf.round(model_1.predict(tensor_predict)).numpy().astype(int)"
   ]
  },
  {
   "cell_type": "code",
   "execution_count": 25,
   "id": "a0924fbf",
   "metadata": {
    "execution": {
     "iopub.execute_input": "2022-07-14T13:23:56.878086Z",
     "iopub.status.busy": "2022-07-14T13:23:56.876613Z",
     "iopub.status.idle": "2022-07-14T13:23:56.889543Z",
     "shell.execute_reply": "2022-07-14T13:23:56.888462Z"
    },
    "papermill": {
     "duration": 0.032912,
     "end_time": "2022-07-14T13:23:56.891976",
     "exception": false,
     "start_time": "2022-07-14T13:23:56.859064",
     "status": "completed"
    },
    "tags": []
   },
   "outputs": [
    {
     "data": {
      "text/html": [
       "<div>\n",
       "<style scoped>\n",
       "    .dataframe tbody tr th:only-of-type {\n",
       "        vertical-align: middle;\n",
       "    }\n",
       "\n",
       "    .dataframe tbody tr th {\n",
       "        vertical-align: top;\n",
       "    }\n",
       "\n",
       "    .dataframe thead th {\n",
       "        text-align: right;\n",
       "    }\n",
       "</style>\n",
       "<table border=\"1\" class=\"dataframe\">\n",
       "  <thead>\n",
       "    <tr style=\"text-align: right;\">\n",
       "      <th></th>\n",
       "      <th>PassengerId</th>\n",
       "      <th>Survived</th>\n",
       "    </tr>\n",
       "  </thead>\n",
       "  <tbody>\n",
       "    <tr>\n",
       "      <th>0</th>\n",
       "      <td>892</td>\n",
       "      <td>0</td>\n",
       "    </tr>\n",
       "    <tr>\n",
       "      <th>1</th>\n",
       "      <td>893</td>\n",
       "      <td>0</td>\n",
       "    </tr>\n",
       "    <tr>\n",
       "      <th>2</th>\n",
       "      <td>894</td>\n",
       "      <td>0</td>\n",
       "    </tr>\n",
       "    <tr>\n",
       "      <th>3</th>\n",
       "      <td>895</td>\n",
       "      <td>0</td>\n",
       "    </tr>\n",
       "    <tr>\n",
       "      <th>4</th>\n",
       "      <td>896</td>\n",
       "      <td>0</td>\n",
       "    </tr>\n",
       "  </tbody>\n",
       "</table>\n",
       "</div>"
      ],
      "text/plain": [
       "   PassengerId  Survived\n",
       "0          892         0\n",
       "1          893         0\n",
       "2          894         0\n",
       "3          895         0\n",
       "4          896         0"
      ]
     },
     "execution_count": 25,
     "metadata": {},
     "output_type": "execute_result"
    }
   ],
   "source": [
    "#Create a  DataFrame with the passengers ids and our prediction regarding whether they survived or not\n",
    "submission = pd.DataFrame({'PassengerId':data['PassengerId'],'Survived':pd.DataFrame(result)[0]})\n",
    "\n",
    "#Visualize the first 5 rows\n",
    "submission.head()"
   ]
  },
  {
   "cell_type": "code",
   "execution_count": 26,
   "id": "8ce08345",
   "metadata": {
    "execution": {
     "iopub.execute_input": "2022-07-14T13:23:56.927663Z",
     "iopub.status.busy": "2022-07-14T13:23:56.927167Z",
     "iopub.status.idle": "2022-07-14T13:23:56.939066Z",
     "shell.execute_reply": "2022-07-14T13:23:56.937270Z"
    },
    "papermill": {
     "duration": 0.032921,
     "end_time": "2022-07-14T13:23:56.941432",
     "exception": false,
     "start_time": "2022-07-14T13:23:56.908511",
     "status": "completed"
    },
    "tags": []
   },
   "outputs": [
    {
     "name": "stdout",
     "output_type": "stream",
     "text": [
      "Saved file: Titanic Predictions 1.csv\n"
     ]
    }
   ],
   "source": [
    "filename = 'Titanic Predictions 1.csv'\n",
    "\n",
    "submission.to_csv(filename,index=False)\n",
    "\n",
    "print('Saved file: ' + filename)"
   ]
  },
  {
   "cell_type": "code",
   "execution_count": 27,
   "id": "46b36b77",
   "metadata": {
    "execution": {
     "iopub.execute_input": "2022-07-14T13:23:56.977377Z",
     "iopub.status.busy": "2022-07-14T13:23:56.976120Z",
     "iopub.status.idle": "2022-07-14T13:23:56.992458Z",
     "shell.execute_reply": "2022-07-14T13:23:56.991149Z"
    },
    "papermill": {
     "duration": 0.036758,
     "end_time": "2022-07-14T13:23:56.994871",
     "exception": false,
     "start_time": "2022-07-14T13:23:56.958113",
     "status": "completed"
    },
    "tags": []
   },
   "outputs": [
    {
     "data": {
      "text/html": [
       "<div>\n",
       "<style scoped>\n",
       "    .dataframe tbody tr th:only-of-type {\n",
       "        vertical-align: middle;\n",
       "    }\n",
       "\n",
       "    .dataframe tbody tr th {\n",
       "        vertical-align: top;\n",
       "    }\n",
       "\n",
       "    .dataframe thead th {\n",
       "        text-align: right;\n",
       "    }\n",
       "</style>\n",
       "<table border=\"1\" class=\"dataframe\">\n",
       "  <thead>\n",
       "    <tr style=\"text-align: right;\">\n",
       "      <th></th>\n",
       "      <th>PassengerId</th>\n",
       "      <th>Survived</th>\n",
       "    </tr>\n",
       "  </thead>\n",
       "  <tbody>\n",
       "    <tr>\n",
       "      <th>0</th>\n",
       "      <td>892</td>\n",
       "      <td>0</td>\n",
       "    </tr>\n",
       "    <tr>\n",
       "      <th>1</th>\n",
       "      <td>893</td>\n",
       "      <td>0</td>\n",
       "    </tr>\n",
       "    <tr>\n",
       "      <th>2</th>\n",
       "      <td>894</td>\n",
       "      <td>0</td>\n",
       "    </tr>\n",
       "    <tr>\n",
       "      <th>3</th>\n",
       "      <td>895</td>\n",
       "      <td>0</td>\n",
       "    </tr>\n",
       "    <tr>\n",
       "      <th>4</th>\n",
       "      <td>896</td>\n",
       "      <td>0</td>\n",
       "    </tr>\n",
       "    <tr>\n",
       "      <th>...</th>\n",
       "      <td>...</td>\n",
       "      <td>...</td>\n",
       "    </tr>\n",
       "    <tr>\n",
       "      <th>413</th>\n",
       "      <td>1305</td>\n",
       "      <td>0</td>\n",
       "    </tr>\n",
       "    <tr>\n",
       "      <th>414</th>\n",
       "      <td>1306</td>\n",
       "      <td>0</td>\n",
       "    </tr>\n",
       "    <tr>\n",
       "      <th>415</th>\n",
       "      <td>1307</td>\n",
       "      <td>0</td>\n",
       "    </tr>\n",
       "    <tr>\n",
       "      <th>416</th>\n",
       "      <td>1308</td>\n",
       "      <td>0</td>\n",
       "    </tr>\n",
       "    <tr>\n",
       "      <th>417</th>\n",
       "      <td>1309</td>\n",
       "      <td>0</td>\n",
       "    </tr>\n",
       "  </tbody>\n",
       "</table>\n",
       "<p>418 rows × 2 columns</p>\n",
       "</div>"
      ],
      "text/plain": [
       "     PassengerId  Survived\n",
       "0            892         0\n",
       "1            893         0\n",
       "2            894         0\n",
       "3            895         0\n",
       "4            896         0\n",
       "..           ...       ...\n",
       "413         1305         0\n",
       "414         1306         0\n",
       "415         1307         0\n",
       "416         1308         0\n",
       "417         1309         0\n",
       "\n",
       "[418 rows x 2 columns]"
      ]
     },
     "execution_count": 27,
     "metadata": {},
     "output_type": "execute_result"
    }
   ],
   "source": [
    "pd.read_csv(\"./Titanic Predictions 1.csv\")"
   ]
  }
 ],
 "metadata": {
  "kernelspec": {
   "display_name": "Python 3",
   "language": "python",
   "name": "python3"
  },
  "language_info": {
   "codemirror_mode": {
    "name": "ipython",
    "version": 3
   },
   "file_extension": ".py",
   "mimetype": "text/x-python",
   "name": "python",
   "nbconvert_exporter": "python",
   "pygments_lexer": "ipython3",
   "version": "3.7.12"
  },
  "papermill": {
   "default_parameters": {},
   "duration": 38.715618,
   "end_time": "2022-07-14T13:24:00.426938",
   "environment_variables": {},
   "exception": null,
   "input_path": "__notebook__.ipynb",
   "output_path": "__notebook__.ipynb",
   "parameters": {},
   "start_time": "2022-07-14T13:23:21.711320",
   "version": "2.3.4"
  }
 },
 "nbformat": 4,
 "nbformat_minor": 5
}
